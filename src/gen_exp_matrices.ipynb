{
 "cells": [
  {
   "cell_type": "code",
   "execution_count": 1,
   "metadata": {},
   "outputs": [],
   "source": [
    "import matlab.engine\n",
    "import os"
   ]
  },
  {
   "cell_type": "code",
   "execution_count": 2,
   "metadata": {},
   "outputs": [],
   "source": [
    "# Initiates Matlab engine\n",
    "eng = matlab.engine.start_matlab()\n",
    "\n",
    "# Gets current directory\n",
    "current_directory = os.getcwd()\n",
    "\n",
    "# Changes Matlab working directory\n",
    "eng.cd(current_directory, nargout=0)"
   ]
  },
  {
   "cell_type": "code",
   "execution_count": null,
   "metadata": {},
   "outputs": [],
   "source": [
    "m_values = [100, 200, 300, 400, 500, 1000, 2000, 3000, 4000, 5000]\n",
    "d_values = [1.0]\n",
    "n_mtx = 1\n",
    "output_dir = f\"./instances/square_dense_02\"\n",
    "\n",
    "d_values_matlab = matlab.double(d_values)"
   ]
  },
  {
   "cell_type": "code",
   "execution_count": null,
   "metadata": {},
   "outputs": [],
   "source": [
    "for m in m_values:\n",
    "    n = m\n",
    "    r_values = [int(0.25 * m)]\n",
    "    r_values_matlab = matlab.double(r_values)\n",
    "    eng.generate_experiment_matrices(m, n, r_values_matlab, d_values_matlab, n_mtx, output_dir, nargout=0)"
   ]
  },
  {
   "cell_type": "code",
   "execution_count": 5,
   "metadata": {},
   "outputs": [],
   "source": [
    "# Ends Matlab engine\n",
    "eng.quit()"
   ]
  }
 ],
 "metadata": {
  "kernelspec": {
   "display_name": "Python 3",
   "language": "python",
   "name": "python3"
  },
  "language_info": {
   "codemirror_mode": {
    "name": "ipython",
    "version": 3
   },
   "file_extension": ".py",
   "mimetype": "text/x-python",
   "name": "python",
   "nbconvert_exporter": "python",
   "pygments_lexer": "ipython3",
   "version": "3.10.16"
  }
 },
 "nbformat": 4,
 "nbformat_minor": 2
}
